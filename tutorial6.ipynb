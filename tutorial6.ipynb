{
 "cells": [
  {
   "cell_type": "markdown",
   "id": "07beceb3-f7e5-4cbd-963d-4744bc08ec96",
   "metadata": {},
   "source": [
    "## tutorial 6"
   ]
  },
  {
   "cell_type": "code",
   "execution_count": 1,
   "id": "fdcb9688-c78b-4395-9be7-ca7aa5ec6075",
   "metadata": {},
   "outputs": [
    {
     "name": "stdout",
     "output_type": "stream",
     "text": [
      "H\n",
      "E\n",
      "L\n",
      "L\n",
      "O\n"
     ]
    }
   ],
   "source": [
    "for sch in \"HELLO\":          \n",
    "    print(sch)"
   ]
  },
  {
   "cell_type": "code",
   "execution_count": 2,
   "id": "a5ebbb29-de8e-48d5-bc20-ec5e7eb5c58e",
   "metadata": {},
   "outputs": [
    {
     "name": "stdout",
     "output_type": "stream",
     "text": [
      "10 20\n",
      "30 40\n",
      "50 60\n"
     ]
    }
   ],
   "source": [
    "a = [[10,20], [30,40], [50,60]]\n",
    "for (x, y) in a:\n",
    "    print (x,y)\n"
   ]
  },
  {
   "cell_type": "code",
   "execution_count": 3,
   "id": "57064693-e7d7-4c9e-8fa6-4c7f334a4ee2",
   "metadata": {},
   "outputs": [
    {
     "data": {
      "text/plain": [
       "[0, 1, 2, 3, 4]"
      ]
     },
     "execution_count": 3,
     "metadata": {},
     "output_type": "execute_result"
    }
   ],
   "source": [
    "list(range(5))"
   ]
  },
  {
   "cell_type": "code",
   "execution_count": 4,
   "id": "cdf28efd-e7b3-4ca2-946d-1da3f683341c",
   "metadata": {},
   "outputs": [
    {
     "name": "stdout",
     "output_type": "stream",
     "text": [
      "0\n",
      "1\n",
      "2\n",
      "3\n",
      "4\n"
     ]
    }
   ],
   "source": [
    "for i in range(5):\n",
    "  print(i)"
   ]
  },
  {
   "cell_type": "code",
   "execution_count": 5,
   "id": "f2e2dc12-20a5-450c-a477-b893628c4c60",
   "metadata": {},
   "outputs": [
    {
     "name": "stdout",
     "output_type": "stream",
     "text": [
      "phone\n",
      "bag\n",
      "lipbam\n"
     ]
    }
   ],
   "source": [
    "mylist = ['phone','bag','lipbam']\n",
    "for i in range(len(mylist)):\n",
    "     print(mylist[i])"
   ]
  },
  {
   "cell_type": "code",
   "execution_count": 6,
   "id": "4b985cef-02ce-4e1b-b01d-cb1166e574b2",
   "metadata": {},
   "outputs": [],
   "source": [
    " mylist = ['phone','bag','lipbam']"
   ]
  },
  {
   "cell_type": "code",
   "execution_count": 7,
   "id": "7a10aa5b-b028-413e-a864-a330df6b867e",
   "metadata": {},
   "outputs": [
    {
     "name": "stdout",
     "output_type": "stream",
     "text": [
      "(0, 'phone')\n",
      "(1, 'bag')\n",
      "(2, 'lipbam')\n"
     ]
    }
   ],
   "source": [
    "for i in enumerate(mylist):\n",
    "    print(i)"
   ]
  },
  {
   "cell_type": "code",
   "execution_count": null,
   "id": "9e144ec8-fb2d-469e-b8be-83a4d5314a6e",
   "metadata": {},
   "outputs": [],
   "source": []
  },
  {
   "cell_type": "code",
   "execution_count": null,
   "id": "6d36a6d6-08f6-4f46-802a-edb94f756301",
   "metadata": {},
   "outputs": [],
   "source": []
  }
 ],
 "metadata": {
  "kernelspec": {
   "display_name": "Python 3",
   "language": "python",
   "name": "python3"
  },
  "language_info": {
   "codemirror_mode": {
    "name": "ipython",
    "version": 3
   },
   "file_extension": ".py",
   "mimetype": "text/x-python",
   "name": "python",
   "nbconvert_exporter": "python",
   "pygments_lexer": "ipython3",
   "version": "3.8.8"
  }
 },
 "nbformat": 4,
 "nbformat_minor": 5
}
