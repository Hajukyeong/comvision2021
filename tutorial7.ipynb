{
 "cells": [
  {
   "cell_type": "markdown",
   "id": "36e77731-f635-43fe-8fb2-b9e01356e54c",
   "metadata": {},
   "source": [
    "## tutorial 7"
   ]
  },
  {
   "cell_type": "code",
   "execution_count": 1,
   "id": "92f1f17b-f445-47f0-9df0-be4c0f225286",
   "metadata": {},
   "outputs": [],
   "source": [
    "li = [3, 6, 2, 7]"
   ]
  },
  {
   "cell_type": "code",
   "execution_count": 2,
   "id": "aec788b3-23fe-463d-a402-c8eefc9f41a6",
   "metadata": {},
   "outputs": [
    {
     "data": {
      "text/plain": [
       "[6, 12, 4, 14]"
      ]
     },
     "execution_count": 2,
     "metadata": {},
     "output_type": "execute_result"
    }
   ],
   "source": [
    " [elem*2 for elem in li]\n"
   ]
  },
  {
   "cell_type": "code",
   "execution_count": 3,
   "id": "06cc61c1-009e-4c2a-aaf1-2ac419cd6a16",
   "metadata": {},
   "outputs": [
    {
     "data": {
      "text/plain": [
       "[9, 18, 6, 21]"
      ]
     },
     "execution_count": 3,
     "metadata": {},
     "output_type": "execute_result"
    }
   ],
   "source": [
    "[ele*3 for ele in li]"
   ]
  },
  {
   "cell_type": "code",
   "execution_count": 4,
   "id": "6955c007-adf5-4712-afd1-5522378c73a6",
   "metadata": {},
   "outputs": [],
   "source": [
    " li = [('a', 1), ('b', 2), ('c', 7)]"
   ]
  },
  {
   "cell_type": "code",
   "execution_count": 5,
   "id": "0ab00947-3360-4092-bebd-d64233e7bd2c",
   "metadata": {},
   "outputs": [
    {
     "data": {
      "text/plain": [
       "[3, 6, 21]"
      ]
     },
     "execution_count": 5,
     "metadata": {},
     "output_type": "execute_result"
    }
   ],
   "source": [
    " [ n * 3 for (x, n) in li]"
   ]
  },
  {
   "cell_type": "code",
   "execution_count": 6,
   "id": "df3009fc-6b5a-4266-9dcf-50ef000e81df",
   "metadata": {},
   "outputs": [
    {
     "data": {
      "text/plain": [
       "['aaa', 'bbb', 'ccc']"
      ]
     },
     "execution_count": 6,
     "metadata": {},
     "output_type": "execute_result"
    }
   ],
   "source": [
    " [ x * 3 for (x, n) in li]"
   ]
  },
  {
   "cell_type": "code",
   "execution_count": 7,
   "id": "86491a35-c8f5-40d0-ba23-ab3cd1ada74f",
   "metadata": {},
   "outputs": [],
   "source": [
    "li = [3, 6, 2, 7, 1, 9]"
   ]
  },
  {
   "cell_type": "code",
   "execution_count": 8,
   "id": "e42d57d6-b49f-4aff-8adc-fabc05bc046a",
   "metadata": {},
   "outputs": [
    {
     "data": {
      "text/plain": [
       "[12, 14, 18]"
      ]
     },
     "execution_count": 8,
     "metadata": {},
     "output_type": "execute_result"
    }
   ],
   "source": [
    "[elem * 2 for elem in li if elem > 4]"
   ]
  },
  {
   "cell_type": "code",
   "execution_count": 9,
   "id": "aebd0472-05ad-4241-8338-1946ed08fabd",
   "metadata": {},
   "outputs": [
    {
     "data": {
      "text/plain": [
       "[6, 4, 2]"
      ]
     },
     "execution_count": 9,
     "metadata": {},
     "output_type": "execute_result"
    }
   ],
   "source": [
    "[elem * 2 for elem in li if elem < 6]"
   ]
  },
  {
   "cell_type": "code",
   "execution_count": 10,
   "id": "412dd19d-c012-444a-b46c-d5b785ab7fdc",
   "metadata": {},
   "outputs": [],
   "source": [
    "li = [3, 2, 4, 1]"
   ]
  },
  {
   "cell_type": "code",
   "execution_count": 11,
   "id": "43ec665f-02e2-433f-afdb-e73b37cca454",
   "metadata": {},
   "outputs": [
    {
     "data": {
      "text/plain": [
       "[8, 6, 10, 4]"
      ]
     },
     "execution_count": 11,
     "metadata": {},
     "output_type": "execute_result"
    }
   ],
   "source": [
    "[elem*2 for elem in \n",
    "[item+1 for item in li] ]"
   ]
  },
  {
   "cell_type": "code",
   "execution_count": 12,
   "id": "1e479aed-c565-4912-a5ae-7caf2e008503",
   "metadata": {},
   "outputs": [
    {
     "data": {
      "text/plain": [
       "[10, 8, 12, 6]"
      ]
     },
     "execution_count": 12,
     "metadata": {},
     "output_type": "execute_result"
    }
   ],
   "source": [
    "[elem*2 for elem in \n",
    "[item+2 for item in li] ]"
   ]
  },
  {
   "cell_type": "code",
   "execution_count": null,
   "id": "91f54678-7a53-40a4-a9b7-f80778df3672",
   "metadata": {},
   "outputs": [],
   "source": []
  }
 ],
 "metadata": {
  "kernelspec": {
   "display_name": "Python 3",
   "language": "python",
   "name": "python3"
  },
  "language_info": {
   "codemirror_mode": {
    "name": "ipython",
    "version": 3
   },
   "file_extension": ".py",
   "mimetype": "text/x-python",
   "name": "python",
   "nbconvert_exporter": "python",
   "pygments_lexer": "ipython3",
   "version": "3.8.8"
  }
 },
 "nbformat": 4,
 "nbformat_minor": 5
}
