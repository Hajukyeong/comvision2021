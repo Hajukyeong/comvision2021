{
 "cells": [
  {
   "cell_type": "markdown",
   "id": "680a2682-e0e9-4190-b6bc-e14f1926ddbd",
   "metadata": {},
   "source": [
    "## 1.2.5 Trackbar as the Color Palette\n"
   ]
  },
  {
   "cell_type": "code",
   "execution_count": 1,
   "id": "9d53c17f-c284-4056-a2e3-73bbd14b380d",
   "metadata": {},
   "outputs": [],
   "source": [
    "import cv2\n",
    "import numpy as np"
   ]
  },
  {
   "cell_type": "code",
   "execution_count": 2,
   "id": "6337d049-2a07-45a1-bd14-c7fca2fcf931",
   "metadata": {},
   "outputs": [],
   "source": [
    "def nothing(x):\n",
    "    pass\n"
   ]
  },
  {
   "cell_type": "code",
   "execution_count": 3,
   "id": "3e9718bf-5d01-465e-acdd-a14a8ecb9ec8",
   "metadata": {
    "tags": []
   },
   "outputs": [],
   "source": [
    "# Create a black image, a window\n",
    "img = np.zeros((300,512,3), np.uint8)\n",
    "cv2.namedWindow('image')"
   ]
  },
  {
   "cell_type": "code",
   "execution_count": 4,
   "id": "4b055fc4-c881-4eb5-906b-b2fea9164ac4",
   "metadata": {
    "tags": []
   },
   "outputs": [],
   "source": [
    "# create trackbars for color change\n",
    "cv2.createTrackbar('R','image',0,255,nothing)\n",
    "cv2.createTrackbar('G','image',0,255,nothing)\n",
    "cv2.createTrackbar('B','image',0,255,nothing)"
   ]
  },
  {
   "cell_type": "code",
   "execution_count": 5,
   "id": "d2a54486-b688-4969-b809-cbaee77e5539",
   "metadata": {
    "tags": []
   },
   "outputs": [],
   "source": [
    "# create switch for ON/OFF functionality\n",
    "switch = '0 : OFF \\n1 : ON'\n",
    "cv2.createTrackbar(switch, 'image',0,1,nothing)"
   ]
  },
  {
   "cell_type": "code",
   "execution_count": null,
   "id": "2924e010-c8c9-420f-a4f3-42d291c2d539",
   "metadata": {},
   "outputs": [],
   "source": [
    "while(1):\n",
    "    cv2.imshow('image',img)\n",
    "    k = cv2.waitKey(1) & 0xFF\n",
    "    if k == 27:\n",
    "        break\n",
    "    # get current positions of four trackbars\n",
    "    r = cv2.getTrackbarPos('R','image')\n",
    "    g = cv2.getTrackbarPos('G','image')\n",
    "    b = cv2.getTrackbarPos('B','image')\n",
    "    s = cv2.getTrackbarPos(switch,'image')\n",
    "    if s == 0:\n",
    "        img[:] = 0\n",
    "    else:\n",
    "        img[:] = [b,g,r]\n",
    "        \n",
    "cv2.destroyAllWindows()"
   ]
  },
  {
   "cell_type": "code",
   "execution_count": null,
   "id": "416d9184-5339-47db-ba65-ec915709ca68",
   "metadata": {},
   "outputs": [],
   "source": []
  },
  {
   "cell_type": "code",
   "execution_count": null,
   "id": "c610d1f9-e875-4252-9c46-af6924791d5b",
   "metadata": {},
   "outputs": [],
   "source": []
  }
 ],
 "metadata": {
  "kernelspec": {
   "display_name": "Python 3",
   "language": "python",
   "name": "python3"
  },
  "language_info": {
   "codemirror_mode": {
    "name": "ipython",
    "version": 3
   },
   "file_extension": ".py",
   "mimetype": "text/x-python",
   "name": "python",
   "nbconvert_exporter": "python",
   "pygments_lexer": "ipython3",
   "version": "3.9.4"
  }
 },
 "nbformat": 4,
 "nbformat_minor": 5
}
