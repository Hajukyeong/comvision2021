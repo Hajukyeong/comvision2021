{
 "cells": [
  {
   "cell_type": "code",
   "execution_count": 1,
   "id": "df30bff8-4617-430b-ac5a-865a57778b17",
   "metadata": {},
   "outputs": [],
   "source": [
    "import numpy as np\n",
    "import cv2"
   ]
  },
  {
   "cell_type": "code",
   "execution_count": 2,
   "id": "7658be07-59d2-44de-8561-e583ed142382",
   "metadata": {},
   "outputs": [],
   "source": [
    "def run_main():\n",
    "    cap = cv2.VideoCapture(0)\n",
    "\n",
    "\n",
    "    while(True):\n",
    "        ret, frame = cap.read()\n",
    "        roi = frame[0:500, 0:500]\n",
    "        gray = cv2.cvtColor(roi, cv2.COLOR_BGR2GRAY)\n",
    "\n",
    "        gray_blur = cv2.GaussianBlur(gray, (15, 15), 0)\n",
    "        thresh = cv2.adaptiveThreshold(gray_blur, 255, cv2.ADAPTIVE_THRESH_GAUSSIAN_C,\n",
    "                                       cv2.THRESH_BINARY_INV, 11, 1)\n",
    "\n",
    "        kernel = np.ones((3, 3), np.uint8)\n",
    "        closing = cv2.morphologyEx(thresh, cv2.MORPH_CLOSE,\n",
    "        kernel, iterations=4)\n",
    "\n",
    "        cont_img = closing.copy()\n",
    "        contours, hierarchy = cv2.findContours(cont_img, cv2.RETR_EXTERNAL,\n",
    "                                               cv2.CHAIN_APPROX_SIMPLE)\n",
    "\n",
    "        for cnt in contours:\n",
    "            area = cv2.contourArea(cnt)\n",
    "            if area < 2000 or area > 4000:\n",
    "                continue\n",
    "\n",
    "            if len(cnt) < 5:\n",
    "                continue\n",
    "\n",
    "            ellipse = cv2.fitEllipse(cnt)\n",
    "            cv2.ellipse(roi, ellipse, (0,255,0), 2)\n",
    "\n",
    "        cv2.imshow(\"Morphological Closing\", closing)\n",
    "        cv2.imshow(\"Adaptive Thresholding\", thresh)\n",
    "        cv2.imshow('Contours', roi)\n",
    "\n",
    "        if cv2.waitKey(1) & 0xFF == ord('q'):\n",
    "            break\n",
    "\n",
    "    cap.release()\n",
    "    cv2.destroyAllWindows()\n",
    "\n",
    "if __name__ == \"__main__\":\n",
    "    run_main()"
   ]
  },
  {
   "cell_type": "code",
   "execution_count": null,
   "id": "268c884c-c801-4de5-b0d5-57d7bd7c35ae",
   "metadata": {},
   "outputs": [],
   "source": []
  },
  {
   "cell_type": "code",
   "execution_count": null,
   "id": "cab8fa79-528d-4b07-b693-015886e21f8e",
   "metadata": {},
   "outputs": [],
   "source": [
    "    "
   ]
  },
  {
   "cell_type": "code",
   "execution_count": null,
   "id": "434af345-365e-4c84-a4ed-b27eac90ac66",
   "metadata": {},
   "outputs": [],
   "source": []
  },
  {
   "cell_type": "code",
   "execution_count": null,
   "id": "3dfb160e-0bd1-42e1-a7f9-b6adbf291ce4",
   "metadata": {},
   "outputs": [],
   "source": []
  },
  {
   "cell_type": "code",
   "execution_count": null,
   "id": "27463b12-68a7-4f4d-8a7b-fa9f0733a28d",
   "metadata": {},
   "outputs": [],
   "source": []
  },
  {
   "cell_type": "code",
   "execution_count": null,
   "id": "f998665a-2388-4040-a10c-9b1698547d5e",
   "metadata": {},
   "outputs": [],
   "source": []
  },
  {
   "cell_type": "code",
   "execution_count": null,
   "id": "8dc829a0-136d-43f6-b2b2-918aaa435e11",
   "metadata": {},
   "outputs": [],
   "source": []
  }
 ],
 "metadata": {
  "kernelspec": {
   "display_name": "Python 3",
   "language": "python",
   "name": "python3"
  },
  "language_info": {
   "codemirror_mode": {
    "name": "ipython",
    "version": 3
   },
   "file_extension": ".py",
   "mimetype": "text/x-python",
   "name": "python",
   "nbconvert_exporter": "python",
   "pygments_lexer": "ipython3",
   "version": "3.9.4"
  }
 },
 "nbformat": 4,
 "nbformat_minor": 5
}
