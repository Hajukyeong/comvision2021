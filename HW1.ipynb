{
 "cells": [
  {
   "cell_type": "code",
   "execution_count": null,
   "id": "5b5c5834-6975-442f-8999-ab22bae70dc4",
   "metadata": {},
   "outputs": [],
   "source": [
    "import cv2\n",
    "import numpy as np "
   ]
  },
  {
   "cell_type": "code",
   "execution_count": null,
   "id": "87cd718b-64b6-4a2f-a3fb-05b6a734c100",
   "metadata": {},
   "outputs": [],
   "source": [
    "events = [i for i in dir(cv2) if 'EVENT' in i]\n",
    "print(events)\n",
    "\n",
    "click = False     \n",
    "x1,y1 = -1,-1"
   ]
  },
  {
   "cell_type": "code",
   "execution_count": null,
   "id": "5858a96c-4b3c-4d47-a0bf-bd3555a8cf32",
   "metadata": {},
   "outputs": [],
   "source": [
    "def draw_rectangle(event, x, y, flags, param):\n",
    "    global x1,y1, click                                   \n",
    "\n",
    "    if event == cv2.EVENT_LBUTTONDOWN:                      \n",
    "        click = True \n",
    "        x1, y1 = x,y\n",
    "        print(\"사각형의 왼쪽위 설정 : (\" + str(x1) + \", \" + str(y1) + \")\")\n",
    "      \n",
    "    elif event == cv2.EVENT_MOUSEMOVE:                     \n",
    "        if click == True:                                  \n",
    "            cv2.rectangle(img,(x1,y1),(x,y),(255,0,0),-1)\n",
    "            #cv2.circle(img,(x,y),5,(0,255,0),-1)\n",
    "            print(\"(\" + str(x1) + \", \" + str(y1) + \"), (\" + str(x) + \", \" + str(y) + \")\")\n",
    "\n",
    "    elif event == cv2.EVENT_LBUTTONUP:\n",
    "        click = False;                                     \n",
    "        cv2.rectangle(img,(x1,y1),(x,y),(255,0,0),-1)\n",
    "   #cv2.circle(img,(x,y),5,(0,255,0),-1)"
   ]
  },
  {
   "cell_type": "code",
   "execution_count": null,
   "id": "9ab9ccaf-60c2-4965-a62b-a4ade35774cb",
   "metadata": {},
   "outputs": [],
   "source": [
    "img = np.zeros((500,500,3), np.uint8)\n",
    "img = cv2.imread('cat.jpeg')\n",
    "cv2.namedWindow('image')\n",
    "cv2.setMouseCallback('image',draw_rectangle)          "
   ]
  },
  {
   "cell_type": "code",
   "execution_count": null,
   "id": "3430ba9f-4b3d-4c48-8593-f0615bdd4a82",
   "metadata": {},
   "outputs": [],
   "source": [
    "while True:\n",
    "    cv2.imshow('image', img)   \n",
    " # 키보드 입력값을 받고\n",
    "    k = cv2.waitKey(1) & 0xFF  \n",
    "        \n",
    "    if k == 27:              \n",
    "        break"
   ]
  },
  {
   "cell_type": "code",
   "execution_count": null,
   "id": "2e119c12-1d07-4cd8-bff0-66fa5fd367f3",
   "metadata": {},
   "outputs": [],
   "source": []
  },
  {
   "cell_type": "code",
   "execution_count": null,
   "id": "457acf55-2b2d-4a7b-8852-e6dd72dfd55f",
   "metadata": {},
   "outputs": [],
   "source": []
  },
  {
   "cell_type": "code",
   "execution_count": null,
   "id": "e287c9d2-239b-4005-bfab-1cbae8f04da1",
   "metadata": {},
   "outputs": [],
   "source": []
  }
 ],
 "metadata": {
  "kernelspec": {
   "display_name": "Python 3",
   "language": "python",
   "name": "python3"
  },
  "language_info": {
   "codemirror_mode": {
    "name": "ipython",
    "version": 3
   },
   "file_extension": ".py",
   "mimetype": "text/x-python",
   "name": "python",
   "nbconvert_exporter": "python",
   "pygments_lexer": "ipython3",
   "version": "3.9.4"
  }
 },
 "nbformat": 4,
 "nbformat_minor": 5
}
