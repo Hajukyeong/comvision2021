{
 "cells": [
  {
   "cell_type": "markdown",
   "id": "7eb9c66a-791d-4641-847a-935e29c5dda7",
   "metadata": {},
   "source": [
    "## tutorial 5"
   ]
  },
  {
   "cell_type": "code",
   "execution_count": 1,
   "id": "8bb27d2b-2075-494e-8c92-952f92c97623",
   "metadata": {},
   "outputs": [],
   "source": [
    "x = 10"
   ]
  },
  {
   "cell_type": "code",
   "execution_count": 2,
   "id": "b8bcf754-5d4d-45c6-9908-640793ccf802",
   "metadata": {},
   "outputs": [
    {
     "name": "stdout",
     "output_type": "stream",
     "text": [
      "X equals something else.\n",
      "This is outside the 'if'.\n"
     ]
    }
   ],
   "source": [
    "if (x == 3):\n",
    "    print (\"X equals 3.\")\n",
    "elif (x == 2):\n",
    "    print (\"X equals 2.\")\n",
    "else:\n",
    "    print (\"X equals something else.\")\n",
    "print (\"This is outside the 'if'.\")"
   ]
  },
  {
   "cell_type": "code",
   "execution_count": 3,
   "id": "0f89b1da-596a-4c98-b38b-80b9004960c8",
   "metadata": {},
   "outputs": [],
   "source": [
    "x = 3"
   ]
  },
  {
   "cell_type": "code",
   "execution_count": 4,
   "id": "64e70f67-8b5b-46f2-9dc5-d30f17c6e1a6",
   "metadata": {},
   "outputs": [
    {
     "name": "stdout",
     "output_type": "stream",
     "text": [
      "3 still in the loop\n",
      "4 still in the loop\n"
     ]
    }
   ],
   "source": [
    "while x < 5:\n",
    "    print (\"%d still in the loop\" %x)\n",
    "    x = x + 1"
   ]
  },
  {
   "cell_type": "code",
   "execution_count": 5,
   "id": "26c472c6-8e0f-421e-bbed-f696464d66e4",
   "metadata": {},
   "outputs": [],
   "source": [
    "x = 6"
   ]
  },
  {
   "cell_type": "code",
   "execution_count": 7,
   "id": "e9842709-9bf8-4298-87ef-cb8f6d86acc3",
   "metadata": {},
   "outputs": [],
   "source": [
    "while x < 5:\n",
    "    print (\"%d still in the loop\" %x)\n",
    "   "
   ]
  },
  {
   "cell_type": "code",
   "execution_count": null,
   "id": "73394d57-46a6-4402-b094-9b6aadb3a720",
   "metadata": {},
   "outputs": [],
   "source": []
  }
 ],
 "metadata": {
  "kernelspec": {
   "display_name": "Python 3",
   "language": "python",
   "name": "python3"
  },
  "language_info": {
   "codemirror_mode": {
    "name": "ipython",
    "version": 3
   },
   "file_extension": ".py",
   "mimetype": "text/x-python",
   "name": "python",
   "nbconvert_exporter": "python",
   "pygments_lexer": "ipython3",
   "version": "3.8.8"
  }
 },
 "nbformat": 4,
 "nbformat_minor": 5
}
