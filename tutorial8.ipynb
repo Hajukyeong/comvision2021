{
 "cells": [
  {
   "cell_type": "code",
   "execution_count": 1,
   "id": "8535d247-6f1c-4ef0-bed9-4f061f9f990d",
   "metadata": {},
   "outputs": [],
   "source": [
    "def get_final_answer(filename):\n",
    "    \"\"\"Documentation String\"\"\"\n",
    "    line1\n",
    "    line2\n",
    "    return total_counter"
   ]
  },
  {
   "cell_type": "code",
   "execution_count": 2,
   "id": "dbf5e58f-79e8-4df9-b090-2edd1761d836",
   "metadata": {},
   "outputs": [],
   "source": [
    "def myfun(x, y):\n",
    "    return x*y\n"
   ]
  },
  {
   "cell_type": "code",
   "execution_count": 3,
   "id": "04fb0b32-7b5c-4060-af44-3b1a3274a49c",
   "metadata": {},
   "outputs": [
    {
     "data": {
      "text/plain": [
       "12"
      ]
     },
     "execution_count": 3,
     "metadata": {},
     "output_type": "execute_result"
    }
   ],
   "source": [
    "myfun(3,4)"
   ]
  },
  {
   "cell_type": "code",
   "execution_count": 4,
   "id": "65c4a8d3-926c-4272-b919-ea4cc0a528b4",
   "metadata": {},
   "outputs": [],
   "source": [
    "def myfun(x):\n",
    "    return x*3"
   ]
  },
  {
   "cell_type": "code",
   "execution_count": 5,
   "id": "d7516a0b-7cf2-42c7-aa35-7f1ea75f9a92",
   "metadata": {},
   "outputs": [],
   "source": [
    "def apply(q, x):\n",
    "    return q(x)"
   ]
  },
  {
   "cell_type": "code",
   "execution_count": 6,
   "id": "dedfe213-e113-45a3-a5e8-62c9f334bea8",
   "metadata": {},
   "outputs": [
    {
     "data": {
      "text/plain": [
       "21"
      ]
     },
     "execution_count": 6,
     "metadata": {},
     "output_type": "execute_result"
    }
   ],
   "source": [
    "apply(myfun, 7)"
   ]
  },
  {
   "cell_type": "code",
   "execution_count": 7,
   "id": "680fe8c7-d8bc-4d18-860b-25d36bbaaabc",
   "metadata": {},
   "outputs": [
    {
     "data": {
      "text/plain": [
       "28"
      ]
     },
     "execution_count": 7,
     "metadata": {},
     "output_type": "execute_result"
    }
   ],
   "source": [
    "apply(lambda z: z * 4, 7)"
   ]
  },
  {
   "cell_type": "code",
   "execution_count": 8,
   "id": "bddbc006-5556-40ed-8154-16ecdf3aed25",
   "metadata": {},
   "outputs": [],
   "source": [
    "def myfun(b, c=3, d=\"hello\"):\n",
    "        return b + c"
   ]
  },
  {
   "cell_type": "code",
   "execution_count": 9,
   "id": "a5b7535a-2b97-42d7-b79e-99e67e8b4b54",
   "metadata": {},
   "outputs": [
    {
     "data": {
      "text/plain": [
       "8"
      ]
     },
     "execution_count": 9,
     "metadata": {},
     "output_type": "execute_result"
    }
   ],
   "source": [
    "myfun(5,3,\"hello\")"
   ]
  },
  {
   "cell_type": "code",
   "execution_count": 10,
   "id": "b7f41d63-0744-4b11-a98b-37c98c90f626",
   "metadata": {},
   "outputs": [
    {
     "data": {
      "text/plain": [
       "8"
      ]
     },
     "execution_count": 10,
     "metadata": {},
     "output_type": "execute_result"
    }
   ],
   "source": [
    "myfun(5,3)"
   ]
  },
  {
   "cell_type": "code",
   "execution_count": 11,
   "id": "7ef6ad13-5194-4d00-bb0f-a67eb30a3e32",
   "metadata": {},
   "outputs": [
    {
     "data": {
      "text/plain": [
       "8"
      ]
     },
     "execution_count": 11,
     "metadata": {},
     "output_type": "execute_result"
    }
   ],
   "source": [
    "myfun(5)"
   ]
  },
  {
   "cell_type": "code",
   "execution_count": 12,
   "id": "dd2d23b3-dcbd-4596-af62-c9f2196ffda8",
   "metadata": {},
   "outputs": [],
   "source": [
    "def myfun (a, b, c):\n",
    "    return a-b"
   ]
  },
  {
   "cell_type": "code",
   "execution_count": 13,
   "id": "1730710d-f916-4951-9243-d0d8ea89eaaa",
   "metadata": {},
   "outputs": [
    {
     "data": {
      "text/plain": [
       "1"
      ]
     },
     "execution_count": 13,
     "metadata": {},
     "output_type": "execute_result"
    }
   ],
   "source": [
    "myfun(2, 1, 43)"
   ]
  },
  {
   "cell_type": "code",
   "execution_count": 14,
   "id": "b70ea7e6-982e-44da-a8e0-ec9ecb79990b",
   "metadata": {},
   "outputs": [
    {
     "data": {
      "text/plain": [
       "1"
      ]
     },
     "execution_count": 14,
     "metadata": {},
     "output_type": "execute_result"
    }
   ],
   "source": [
    "myfun(c=43, b=1, a=2)"
   ]
  },
  {
   "cell_type": "code",
   "execution_count": 15,
   "id": "92238447-7910-4d6f-ac77-c16a1a8e03fa",
   "metadata": {},
   "outputs": [
    {
     "data": {
      "text/plain": [
       "1"
      ]
     },
     "execution_count": 15,
     "metadata": {},
     "output_type": "execute_result"
    }
   ],
   "source": [
    "myfun(2, c=43, b=1)"
   ]
  },
  {
   "cell_type": "code",
   "execution_count": 16,
   "id": "aa6090cc-aa47-469f-a133-56865148ed2c",
   "metadata": {},
   "outputs": [
    {
     "data": {
      "text/plain": [
       "'HELLO'"
      ]
     },
     "execution_count": 16,
     "metadata": {},
     "output_type": "execute_result"
    }
   ],
   "source": [
    "\"hello\".upper()"
   ]
  },
  {
   "cell_type": "code",
   "execution_count": 17,
   "id": "f15e130b-e30c-477b-8d82-87429214d330",
   "metadata": {},
   "outputs": [],
   "source": [
    "x = \"abc\""
   ]
  },
  {
   "cell_type": "code",
   "execution_count": 18,
   "id": "32240e18-805b-45be-803f-71fee17bb544",
   "metadata": {},
   "outputs": [],
   "source": [
    "y = 34"
   ]
  },
  {
   "cell_type": "code",
   "execution_count": 19,
   "id": "58f84d9b-164a-458a-b24e-fabdc3d4487b",
   "metadata": {},
   "outputs": [
    {
     "data": {
      "text/plain": [
       "'abc xyz 34'"
      ]
     },
     "execution_count": 19,
     "metadata": {},
     "output_type": "execute_result"
    }
   ],
   "source": [
    "\"%s xyz %d\" % (x, y)"
   ]
  },
  {
   "cell_type": "code",
   "execution_count": 20,
   "id": "c5c15d59-aecb-4e8f-a304-ad7894161de4",
   "metadata": {},
   "outputs": [
    {
     "data": {
      "text/plain": [
       "'abc;def;ghi'"
      ]
     },
     "execution_count": 20,
     "metadata": {},
     "output_type": "execute_result"
    }
   ],
   "source": [
    "\";\".join( [\"abc\", \"def\", \"ghi\"] )\n"
   ]
  },
  {
   "cell_type": "code",
   "execution_count": 21,
   "id": "98ffe1cd-fac2-4bfb-9302-fcfc87ac3c0a",
   "metadata": {},
   "outputs": [
    {
     "data": {
      "text/plain": [
       "['abc', 'def', 'ghi']"
      ]
     },
     "execution_count": 21,
     "metadata": {},
     "output_type": "execute_result"
    }
   ],
   "source": [
    "\"abc;def;ghi\".split( \";\" )"
   ]
  },
  {
   "cell_type": "code",
   "execution_count": 22,
   "id": "9fbd1fbc-42e8-4537-b17f-dad65ba547bd",
   "metadata": {},
   "outputs": [
    {
     "data": {
      "text/plain": [
       "'Hello2'"
      ]
     },
     "execution_count": 22,
     "metadata": {},
     "output_type": "execute_result"
    }
   ],
   "source": [
    "\"Hello\" + str(2)"
   ]
  },
  {
   "cell_type": "code",
   "execution_count": 23,
   "id": "188e9fc9-1754-4595-a35f-0076ccd81ee1",
   "metadata": {},
   "outputs": [],
   "source": [
    "class student:\n",
    "    ... \n",
    "    def __repr__(self):\n",
    "        return \"I’m named\" + self.full_name\n",
    "    ...\n",
    "    "
   ]
  },
  {
   "cell_type": "code",
   "execution_count": 24,
   "id": "9d78361a-f9db-4f06-bb03-93fa078df306",
   "metadata": {},
   "outputs": [],
   "source": [
    "f = student()"
   ]
  },
  {
   "cell_type": "code",
   "execution_count": 25,
   "id": "f189f25f-4ad7-4bb3-b8e7-611a3369f118",
   "metadata": {},
   "outputs": [],
   "source": [
    "student = \"Bob Smith\", 23"
   ]
  },
  {
   "cell_type": "code",
   "execution_count": 26,
   "id": "a45b1c92-f659-4e85-8de8-e9104f088ec9",
   "metadata": {},
   "outputs": [
    {
     "data": {
      "text/plain": [
       "\"('Bob Smith', 23)\""
      ]
     },
     "execution_count": 26,
     "metadata": {},
     "output_type": "execute_result"
    }
   ],
   "source": [
    "str (student)"
   ]
  },
  {
   "cell_type": "code",
   "execution_count": 27,
   "id": "8794f5d8-ae7e-4d43-8c01-af0eea740969",
   "metadata": {},
   "outputs": [],
   "source": [
    "f.__doc__"
   ]
  },
  {
   "cell_type": "code",
   "execution_count": 28,
   "id": "550ee30a-c49f-4202-86ac-a18c51c58209",
   "metadata": {},
   "outputs": [],
   "source": [
    "def merge(l, r):\n",
    "    llen, rlen, i, j = len(l), len(r), 0, 0\n",
    "    while i < llen or j < rlen:\n",
    "        if j == rlen or (i < llen and l[i] < r[j]):\n",
    "            yield l[i]\n",
    "            i += 1\n",
    "    else:\n",
    "        yield r[j]\n",
    "        j += 1\n"
   ]
  },
  {
   "cell_type": "code",
   "execution_count": 29,
   "id": "5ff044f2-013a-4e48-8b55-cec181615099",
   "metadata": {},
   "outputs": [],
   "source": [
    "g = merge([2,4], [1, 3, 5])"
   ]
  },
  {
   "cell_type": "code",
   "execution_count": 30,
   "id": "2817ad58-38cc-4ec5-b95d-487e0602c65d",
   "metadata": {},
   "outputs": [],
   "source": [
    "class DiGraph:\n",
    "    def __init__(self, edges):\n",
    "        self.adj = {}\n",
    "        for u,v in edges:\n",
    "            if u not in self.adj: self.adj[u] = [v]\n",
    "            else: self.adj[u].append(v) \n",
    "    def __str__(self):\n",
    "        return '\\n'.join(['%s -> %s'%(u,v) \\\n",
    "                        for u in self.adj for v in self.adj[u]])"
   ]
  },
  {
   "cell_type": "code",
   "execution_count": 31,
   "id": "47016e4d-5f0e-4a33-90ee-fa50522713e9",
   "metadata": {},
   "outputs": [],
   "source": [
    " d = DiGraph([(1,2),(1,3),(2,4),(4,3),(4,1)])"
   ]
  },
  {
   "cell_type": "code",
   "execution_count": 45,
   "id": "352f89a6-beaf-47e5-906a-28b895efcb1b",
   "metadata": {},
   "outputs": [],
   "source": [
    "class DiGraph:\n",
    "\n",
    "    def search(self, u, visited=set()):\n",
    "        # If we haven't already visited this node...\n",
    "        if u not in visited: \n",
    "            # yield it\n",
    "            yield u\n",
    "            # and remember we've visited it now.\n",
    "            visited.add(u) \n",
    "            # Then, if there are any adjacant nodes...\n",
    "            if u in self.adj: \n",
    "                # for each adjacent node...\n",
    "                for v in self.adj[u]: \n",
    "                 # search for all nodes reachable from *it*...\n",
    "                 for w in self.search(v, visited): \n",
    "                    # and yield each one.\n",
    "                    yield w"
   ]
  },
  {
   "cell_type": "code",
   "execution_count": null,
   "id": "630fc2be-4b77-4011-8f85-57ec0cc85ba1",
   "metadata": {},
   "outputs": [],
   "source": []
  }
 ],
 "metadata": {
  "kernelspec": {
   "display_name": "Python 3",
   "language": "python",
   "name": "python3"
  },
  "language_info": {
   "codemirror_mode": {
    "name": "ipython",
    "version": 3
   },
   "file_extension": ".py",
   "mimetype": "text/x-python",
   "name": "python",
   "nbconvert_exporter": "python",
   "pygments_lexer": "ipython3",
   "version": "3.8.8"
  }
 },
 "nbformat": 4,
 "nbformat_minor": 5
}
